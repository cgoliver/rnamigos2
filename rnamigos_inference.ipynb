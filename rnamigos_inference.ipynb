{
 "cells": [
  {
   "cell_type": "markdown",
   "source": [
    "Welcome to RNAmigos !\n",
    "\n",
    "First we need to set up the Colab by running the first cell.\n",
    "To run a cell, please click on the arrow on the left of this cell.\n",
    "\n",
    "Running the first cell will install relevant packages, which should take a few minutes.\n",
    "It might result in a warning, asking to restart the environment. \n",
    "This results from using a different version of pytorch than the default one.\n",
    "You can simply ignore this warning or click restart, and then move on to running the second cell. "
   ],
   "metadata": {
    "collapsed": false
   },
   "id": "5959d621f044c401"
  },
  {
   "cell_type": "code",
   "execution_count": null,
   "outputs": [],
   "source": [
    "!git clone https://github.com/cgoliver/rnamigos2.git\n",
    "%cd rnamigos2\n",
    "!git reset --hard 5f242e224f0b3b32fbc3f0e93bdf11607852694a\n",
    "!pip install -r requirements.txt\n",
    "%cd .."
   ],
   "metadata": {
    "collapsed": false
   },
   "id": "af4395b7c1a61fc3"
  },
  {
   "metadata": {},
   "cell_type": "code",
   "outputs": [],
   "execution_count": null,
   "source": [
    "%env DGLBACKEND=pytorch\n",
    "import sys\n",
    "sys.path.append(\"rnamigos2\")\n",
    "from rnamigos2.rnamigos.inference import do_inference"
   ],
   "id": "f6df3ac623df909"
  },
  {
   "cell_type": "markdown",
   "source": [
    "We are now ready to use the tool. You will need to upload files by clicking the \"Files\" icon on the left, and then \"Upload to session storage\".\n",
    "\n",
    "The two files that are needed are :\n",
    "\n",
    "* the .cif file containing the structure of the binding site you want to run predictions on.\n",
    "* the .txt file containing the ligands you want to screen, in the form of one smiles per line.\n",
    "\n",
    "Then you must set the path to the files you just uploaded, and complete it with a residue selection (a few residues at the core of the pocket) and a path to dump the results.\n",
    " \n",
    "The syntax is examplified below :"
   ],
   "metadata": {
    "collapsed": false
   },
   "id": "3132e4b8cd4ce3f9"
  },
  {
   "cell_type": "code",
   "execution_count": null,
   "outputs": [],
   "source": [
    "\"\"\" Path examples\n",
    "CIF_PATH=\"rnamigos2/sample_files/3ox0.cif\"\n",
    "LIGAND_PATH= \"rnamigos2/sample_files/test_smiles.txt\"\n",
    "SELECTION = [\"A.7\",\"A.8\",\"A.25\",\"A.26\",]\n",
    "OUTNAME = \"test.out\"\n",
    "\"\"\"\n",
    "\n",
    "CIF_PATH=\"rnamigos2/sample_files/3ox0.cif\"\n",
    "LIGAND_PATH= \"rnamigos2/sample_files/test_smiles.txt\"\n",
    "RESIDUE_LIST = [\"A.7\",\"A.8\",\"A.25\",\"A.26\",]\n",
    "OUT_PATH = \"test.out\""
   ],
   "metadata": {
    "collapsed": false
   },
   "id": "122590e2564a517a"
  },
  {
   "cell_type": "markdown",
   "source": [
    "Now you can run your prediction !\n",
    "You will get a text file with a smiles and a score per line. The scores are between 0 and 1 with a higher score representing a better likelihood of binding."
   ],
   "metadata": {
    "collapsed": false
   },
   "id": "a9d5bda0eba2edb6"
  },
  {
   "cell_type": "code",
   "execution_count": null,
   "outputs": [],
   "source": [
    "do_inference(cif_path=CIF_PATH, residue_list=RESIDUE_LIST, ligands_path=LIGAND_PATH, out_path=OUT_PATH)\n",
    "\n",
    "print(\"Done predicting\\n\\n\")\n",
    "print(\"Prediction starts with :\")\n",
    "!head $OUT_PATH\n",
    "print(\"... and the rest is saved in : \", OUT_PATH)"
   ],
   "metadata": {
    "collapsed": false
   },
   "id": "8d90e7a707171065"
  },
  {
   "cell_type": "markdown",
   "source": [
    "Do not forget to download the results in your local filesystem. If you have any questions, do not hesitate to reach out for help by mail."
   ],
   "metadata": {
    "collapsed": false
   },
   "id": "24ee9e34e08a54af"
  }
 ],
 "metadata": {
  "kernelspec": {
   "display_name": "Python 3",
   "language": "python",
   "name": "python3"
  },
  "language_info": {
   "codemirror_mode": {
    "name": "ipython",
    "version": 2
   },
   "file_extension": ".py",
   "mimetype": "text/x-python",
   "name": "python",
   "nbconvert_exporter": "python",
   "pygments_lexer": "ipython2",
   "version": "2.7.6"
  }
 },
 "nbformat": 4,
 "nbformat_minor": 5
}
